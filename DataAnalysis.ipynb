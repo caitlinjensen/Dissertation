{
 "cells": [
  {
   "cell_type": "code",
   "execution_count": 1,
   "metadata": {},
   "outputs": [],
   "source": [
    "#if the below packages are not installed, uncomment and install first\n",
    "# import sys\n",
    "# !{sys.executable} -m pip install pyvis\n",
    "# !{sys.executable} -m pip install jsonpickle\n",
    "\n",
    "import pandas as pd\n",
    "from datetime import datetime\n",
    "import numpy as np\n",
    "import networkx as nx\n",
    "import matplotlib.pyplot as plt\n",
    "import pyvis as pv\n",
    "\n",
    "artists = pd.read_csv('artists.csv') # Contains artist info, i.e. name/d.o.b./d.o.d.\n",
    "artworks = pd.read_csv('artworks.csv') # Contains info on artworks, i.e. title/date/category\n",
    "user_events = pd.read_csv('user_events.csv') \n",
    "user_favorites = pd.read_csv('user_favorites.csv') # Possibly more of a use for Zitong but could be used\n",
    "venues = pd.read_csv('venues.csv') # Only one, this file is not used in the data analysis\n",
    "\n",
    "user_events = user_events.sort_values('timestamp')"
   ]
  },
  {
   "cell_type": "markdown",
   "metadata": {},
   "source": [
    "# Pre-processing"
   ]
  },
  {
   "cell_type": "code",
   "execution_count": 2,
   "metadata": {},
   "outputs": [],
   "source": [
    "#find unique user IDs\n",
    "IDs = user_events['userId'].unique()\n",
    "\n",
    "#find unique artwork IDs\n",
    "artworkIDs = artworks['artworkId'].unique().tolist()\n",
    "\n",
    "#transform date into datetime\n",
    "dates = user_events['timestamp'].tolist()\n",
    "new_date = list()\n",
    "\n",
    "for i in range(0, 44937):\n",
    "    new_date.append(datetime.strptime(dates[i], '%Y-%m-%d %H:%M:%S.%f'))\n",
    "\n",
    "user_events['timestamp'] = new_date"
   ]
  },
  {
   "cell_type": "markdown",
   "metadata": {},
   "source": [
    "# Analysis Functions"
   ]
  },
  {
   "cell_type": "code",
   "execution_count": 3,
   "metadata": {},
   "outputs": [],
   "source": [
    "def country_interactions(user_events):\n",
    "    '''\n",
    "    Input must be a pandas dataframe with column, \"userCountry\"\n",
    "    The function will find the total number of interactions each country has on the app.\n",
    "    Returns an ordered dictionary.\n",
    "    '''\n",
    "    \n",
    "    unique_countries = user_events['userCountry'].unique().tolist()\n",
    "    user_countries = user_events['userCountry'].tolist()\n",
    "    \n",
    "    interaction_count = dict()\n",
    "    \n",
    "    for c in unique_countries:\n",
    "        interaction_count[c] = user_countries.count(c)\n",
    "    \n",
    "    interaction_count = {k: v for k, v in sorted(interaction_count.items(), reverse = True, key=lambda item: item[1])}\n",
    "\n",
    "    return(interaction_count)"
   ]
  },
  {
   "cell_type": "code",
   "execution_count": 4,
   "metadata": {},
   "outputs": [],
   "source": [
    "country_interactions = country_interactions(user_events)"
   ]
  },
  {
   "cell_type": "code",
   "execution_count": 5,
   "metadata": {},
   "outputs": [],
   "source": [
    "def city_interactions(user_events):\n",
    "    '''\n",
    "    Input must be a pandas dataframe with column, \"userCity\"\n",
    "    The function will find the total number of interactions each city has on the app.\n",
    "    Returns an ordered dictionary.\n",
    "    '''\n",
    "    \n",
    "    unique_cities = user_events['userCity'].unique().tolist()\n",
    "    user_cities = user_events['userCity'].tolist()\n",
    "\n",
    "    city_count = dict()\n",
    "    for c in unique_cities:\n",
    "        city_count[c] = user_cities.count(c)\n",
    "    \n",
    "    city_count = {k: v for k, v in sorted(city_count.items(), reverse = True, key=lambda item: item[1])}\n",
    "\n",
    "    return(city_count)"
   ]
  },
  {
   "cell_type": "code",
   "execution_count": 6,
   "metadata": {},
   "outputs": [],
   "source": [
    "city_interactions = city_interactions(user_events)"
   ]
  },
  {
   "cell_type": "code",
   "execution_count": 7,
   "metadata": {},
   "outputs": [],
   "source": [
    "def user_interactions(user_events):\n",
    "    '''\n",
    "    Input must be a pandas dataframe with column, \"userId\"\n",
    "    The function will find the total number of interactions each user has on the app.\n",
    "    Returns an ordered dictionary.\n",
    "    '''\n",
    "    \n",
    "    user_ids = user_events['userId'].tolist()\n",
    "    unique_ids = user_events['userId'].unique().tolist()\n",
    "    \n",
    "    user_interactions = dict()\n",
    "    \n",
    "    for ID in unique_ids:\n",
    "        user_interactions[ID] = user_ids.count(ID)\n",
    "    \n",
    "    user_interactions = {k: v for k, v in sorted(user_interactions.items(), reverse = True, key=lambda item: item[1])}\n",
    "\n",
    "    return(user_interactions)"
   ]
  },
  {
   "cell_type": "code",
   "execution_count": 8,
   "metadata": {},
   "outputs": [],
   "source": [
    "user_interactions = user_interactions(user_events)"
   ]
  },
  {
   "cell_type": "code",
   "execution_count": 9,
   "metadata": {},
   "outputs": [],
   "source": [
    "def user_country_count(user_events):\n",
    "    '''\n",
    "    Input must be a pandas dataframe with columns, \"userCountry\" and \"userId\"\n",
    "    The function will find the number of users from each country on the app that are interacting with the artworks.\n",
    "    Returns an ordered dictionary.\n",
    "    '''\n",
    "    \n",
    "    user_countries = [x[0] for x in user_events.groupby(user_events['userId'])['userCountry'].unique().tolist()]\n",
    "    \n",
    "    country_count = dict()\n",
    "    \n",
    "    for c in user_countries:\n",
    "        country_count[c] = user_countries.count(c)\n",
    "    \n",
    "    country_count = {k: v for k, v in sorted(country_count.items(), reverse = True, key=lambda item: item[1])}\n",
    "\n",
    "    return(country_count)"
   ]
  },
  {
   "cell_type": "code",
   "execution_count": 10,
   "metadata": {},
   "outputs": [],
   "source": [
    "user_countries = user_country_count(user_events)"
   ]
  },
  {
   "cell_type": "code",
   "execution_count": 11,
   "metadata": {},
   "outputs": [],
   "source": [
    "def artwork_count(user_events,artworks):\n",
    "    '''\n",
    "    Input must be two pandas dataframes, \"user_events\" and \"artworks\" which both must contain the column\n",
    "    \"artworkId\"\n",
    "    The function will find the number of interactions with each artwork in the museum/gallery.\n",
    "    Returns an ordered dictionary.\n",
    "    '''\n",
    "    \n",
    "    unique_artworkIDs = artworks['artworkId'].unique().tolist()\n",
    "    artworkIDs = user_events['artworkId'].tolist()\n",
    "    \n",
    "    \n",
    "    artwork_count = dict()\n",
    "\n",
    "    for ID in unique_artworkIDs:\n",
    "        artwork_count[ID] = artworkIDs.count(ID)\n",
    "       \n",
    "    artwork_count = {k: v for k, v in sorted(artwork_count.items(), reverse = True, key=lambda item: item[1])}\n",
    "\n",
    "    return(artwork_count)"
   ]
  },
  {
   "cell_type": "code",
   "execution_count": 12,
   "metadata": {},
   "outputs": [],
   "source": [
    "artwork_count = artwork_count(user_events,artworks)"
   ]
  },
  {
   "cell_type": "markdown",
   "metadata": {},
   "source": [
    "# Graphing Function"
   ]
  },
  {
   "cell_type": "code",
   "execution_count": 13,
   "metadata": {},
   "outputs": [],
   "source": [
    "def create_sessions(user_events,max_time):\n",
    "    sessions = list()\n",
    "    sesh = list()\n",
    "\n",
    "    for ID in IDs:\n",
    "        e = user_events[user_events['userId'] == ID]\n",
    "        e.index = range(len(e))\n",
    "        new = True\n",
    "        \n",
    "        for i in range(1,len(e)):\n",
    "            if (e['timestamp'][i]-e['timestamp'][i-1]).seconds/60 < 30:\n",
    "                if new:\n",
    "                    sesh.append(e['artworkId'][i-1])\n",
    "                    new = False\n",
    "                sesh.append(e['artworkId'][i])\n",
    "            else:\n",
    "                if len(sesh) > 0:\n",
    "                    sessions.append(sesh)\n",
    "                    sesh = list()\n",
    "                    new = True\n",
    "        if len(sesh) > 0:\n",
    "            sessions.append(sesh)\n",
    "            sesh = list()\n",
    "                    \n",
    "    return(sessions)"
   ]
  },
  {
   "cell_type": "code",
   "execution_count": 14,
   "metadata": {},
   "outputs": [],
   "source": [
    "sessions = create_sessions(user_events,30)"
   ]
  },
  {
   "cell_type": "code",
   "execution_count": 15,
   "metadata": {},
   "outputs": [],
   "source": [
    "def create_wm(sessions,artworkIDs):\n",
    "    matrix = np.zeros((len(artworkIDs),len(artworkIDs)))\n",
    "    weight_matrix = pd.DataFrame(matrix, columns = artworkIDs, index = artworkIDs)\n",
    "    \n",
    "    for sesh in sessions:\n",
    "        if len(set(sesh)) > 1:\n",
    "            for i in range(0,len(sesh)-1):\n",
    "                if sesh[i] != sesh[i+1]:\n",
    "                    weight_matrix.loc[sesh[i],sesh[i+1]] += 1\n",
    "                    \n",
    "    return(weight_matrix)\n"
   ]
  },
  {
   "cell_type": "code",
   "execution_count": 16,
   "metadata": {},
   "outputs": [],
   "source": [
    "weight_mat = create_wm(sessions,artworkIDs)"
   ]
  },
  {
   "cell_type": "code",
   "execution_count": 17,
   "metadata": {},
   "outputs": [],
   "source": [
    "def create_network(artworkIDs,artwork_count,weight_matrix,min_weight):\n",
    "    \n",
    "    G=nx.DiGraph()\n",
    "\n",
    "    for ID1 in artworkIDs:\n",
    "        for ID2 in artworkIDs:\n",
    "            if weight_matrix.loc[ID1,ID2]>min_weight:\n",
    "                G.add_node(ID1, \n",
    "                           group = artworks[artworks['artworkId'] == ID1]['category'].tolist()[0], \n",
    "                           title = artworks[artworks['artworkId'] == ID1]['title'].tolist()[0], \n",
    "                           size = artwork_count[ID1]**(1/3))\n",
    "                G.add_node(ID2, \n",
    "                           group = artworks[artworks['artworkId'] == ID2]['category'].tolist()[0], \n",
    "                           title = artworks[artworks['artworkId'] == ID2]['title'].tolist()[0], \n",
    "                           size = artwork_count[ID2]**(1/3))\n",
    "                G.add_edge(ID1,ID2,value=weight_matrix.loc[ID1,ID2]**(1/4))\n",
    "                \n",
    "    return(G)"
   ]
  },
  {
   "cell_type": "code",
   "execution_count": 19,
   "metadata": {},
   "outputs": [],
   "source": [
    "G10 = create_network(artworkIDs,artwork_count,weight_mat,10)\n",
    "G5 = create_network(artworkIDs,artwork_count,weight_mat,5) # Similar to 10\n",
    "#G2 = create_network(artworkIDs,artwork_count,weight_mat,2) # Main cluster plus couple outside \n",
    "#G0 = create_network(artworkIDs,artwork_count,weight_mat,0) # TOO LARGE DO NOT PLOT"
   ]
  },
  {
   "cell_type": "code",
   "execution_count": 21,
   "metadata": {},
   "outputs": [],
   "source": [
    "from pyvis.network import Network\n",
    "largest = max(nx.connected_component_subgraphs(G5.to_undirected()), key=len)\n",
    "\n",
    "g = Network(height = \"100%\", width = \"100%\")\n",
    "\n",
    "g.from_nx(largest)\n",
    "g.set_options(\"\"\"\n",
    "var options = {\n",
    "  \"nodes\": {\n",
    "    \"font\": {\n",
    "      \"size\": 4,\n",
    "      \"face\": \"tahoma\"\n",
    "    }\n",
    "  },\n",
    "  \"edges\": {\n",
    "    \"arrows\": {\n",
    "      \"to\": {\n",
    "        \"enabled\": true,\n",
    "        \"scaleFactor\": 0.5\n",
    "      }\n",
    "    },\n",
    "    \"arrowStrikethrough\": false,\n",
    "    \"color\": {\n",
    "      \"inherit\": true,\n",
    "      \"opacity\": 0.6\n",
    "    },\n",
    "    \"smooth\": false\n",
    "  },\n",
    "  \"physics\": {\n",
    "    \"barnesHut\": {\n",
    "      \"gravitationalConstant\": -2400,\n",
    "      \"springLength\": 115,\n",
    "      \"damping\": 0.5,\n",
    "      \"avoidOverlap\": 1\n",
    "    },\n",
    "    \"maxVelocity\": 36,\n",
    "    \"minVelocity\": 0.75\n",
    "  }\n",
    "}\n",
    "\"\"\")\n",
    "\n",
    "g.show(\"testing.html\")"
   ]
  },
  {
   "cell_type": "code",
   "execution_count": null,
   "metadata": {},
   "outputs": [],
   "source": []
  }
 ],
 "metadata": {
  "kernelspec": {
   "display_name": "Python 3",
   "language": "python",
   "name": "python3"
  },
  "language_info": {
   "codemirror_mode": {
    "name": "ipython",
    "version": 3
   },
   "file_extension": ".py",
   "mimetype": "text/x-python",
   "name": "python",
   "nbconvert_exporter": "python",
   "pygments_lexer": "ipython3",
   "version": "3.7.4"
  }
 },
 "nbformat": 4,
 "nbformat_minor": 2
}
